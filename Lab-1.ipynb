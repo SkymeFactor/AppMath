{
 "cells": [
  {
   "cell_type": "code",
   "execution_count": 1,
   "metadata": {},
   "outputs": [],
   "source": [
    "import numpy as np\n",
    "import matplotlib.pyplot as plt\n",
    "%matplotlib inline"
   ]
  },
  {
   "cell_type": "code",
   "execution_count": 2,
   "metadata": {},
   "outputs": [],
   "source": [
    "data = np.loadtxt('./data.txt', delimiter=' ')"
   ]
  },
  {
   "cell_type": "code",
   "execution_count": 3,
   "metadata": {},
   "outputs": [
    {
     "data": {
      "image/png": "[encoded data removed]",
      "text/plain": [
       "<Figure size 720x360 with 2 Axes>"
      ]
     },
     "metadata": {
      "needs_background": "light"
     },
     "output_type": "display_data"
    }
   ],
   "source": [
    "#Empirical distribution's function\n",
    "def empirical_dist(_data):\n",
    "    unique_data = np.unique(_data)\n",
    "    _dist = np.zeros_like(unique_data)\n",
    "    for i in range(unique_data.shape[0]):\n",
    "        _dist[i] = np.sum(_data < unique_data[i]) / _data.shape[0]\n",
    "    return _dist\n",
    "\n",
    "#Graphics of histogram and empirical distribution\n",
    "fig, (ax1, ax2) = plt.subplots(1, 2)\n",
    "ax1.hist(data, facecolor='blue', alpha=0.7, edgecolor='white')\n",
    "ax2.plot(np.unique(data), empirical_dist(data))\n",
    "fig.set_size_inches(10, 5)\n",
    "plt.show()"
   ]
  },
  {
   "cell_type": "code",
   "execution_count": 4,
   "metadata": {},
   "outputs": [
    {
     "name": "stdout",
     "output_type": "stream",
     "text": [
      "Mean value: 18.3571\n"
     ]
    }
   ],
   "source": [
    "#Mean value\n",
    "m = np.mean(data)\n",
    "print(f'Mean value: {m:2.4f}')"
   ]
  },
  {
   "cell_type": "code",
   "execution_count": 5,
   "metadata": {},
   "outputs": [
    {
     "name": "stdout",
     "output_type": "stream",
     "text": [
      "Dispersion: 5.4653\n"
     ]
    }
   ],
   "source": [
    "#Dispersion\n",
    "d = np.sum(np.square(data - m)) / data.shape[0]\n",
    "print(f'Dispersion: {d:2.4f}')"
   ]
  },
  {
   "cell_type": "code",
   "execution_count": 6,
   "metadata": {},
   "outputs": [
    {
     "name": "stdout",
     "output_type": "stream",
     "text": [
      "Standard error: 0.2551\n"
     ]
    }
   ],
   "source": [
    "#Standard error\n",
    "se = (d ** (1/2)) / (data.shape[0] ** (1/2))\n",
    "print(f'Standard error: {se:2.4f}')"
   ]
  },
  {
   "cell_type": "code",
   "execution_count": 7,
   "metadata": {},
   "outputs": [
    {
     "name": "stdout",
     "output_type": "stream",
     "text": [
      "Mode value: 19.1; Mod count:  4\n"
     ]
    }
   ],
   "source": [
    "#Mode\n",
    "sorted_data = np.sort(data)\n",
    "mod = np.unique(sorted_data)\n",
    "mod_num = np.array([])\n",
    "for i in np.unique(sorted_data):\n",
    "    mod_num = np.append(mod_num, np.count_nonzero(data == i ))\n",
    "mod = mod[np.argwhere(mod_num == np.max(mod_num))].squeeze()\n",
    "mod_num = np.max(mod_num)\n",
    "print(f'Mode value: {mod}; Mod count: {mod_num:2.0f}')"
   ]
  },
  {
   "cell_type": "code",
   "execution_count": 8,
   "metadata": {},
   "outputs": [
    {
     "name": "stdout",
     "output_type": "stream",
     "text": [
      "Median value: 18.25\n"
     ]
    }
   ],
   "source": [
    "#Median\n",
    "n = sorted_data.shape[0]\n",
    "if n % 2 == 0:\n",
    "    #Minus one because of in the numpy all arrays are numerated from 0\n",
    "    med = (sorted_data[round(n / 2) - 1] + sorted_data[round(n / 2)]) / 2\n",
    "else:\n",
    "    med = sorted_data[round(n / 2) - 1]\n",
    "print(f'Median value: {med:2.2f}')"
   ]
  },
  {
   "cell_type": "code",
   "execution_count": 9,
   "metadata": {},
   "outputs": [
    {
     "name": "stdout",
     "output_type": "stream",
     "text": [
      "1st Quartile: 16.6500\n",
      "2nd Quartile: 18.2500\n",
      "3rd Quartile: 20.2500\n"
     ]
    }
   ],
   "source": [
    "#Quartiles\n",
    "if n % 2 == 0:\n",
    "    q1 = (sorted_data[round(n / 4) - 1] + sorted_data[round(n / 4)]) / 2\n",
    "    q2 = (sorted_data[round(n / 2) - 1] + sorted_data[round(n / 2)]) / 2\n",
    "    q3 = (sorted_data[round(0.75 * n) - 1] + sorted_data[round(0.75 * n)]) / 2\n",
    "else:\n",
    "    q1 = sorted_data[round(n / 4) - 1]\n",
    "    q2 = sorted_data[round(n / 2) - 1]\n",
    "    q3 = sorted_data[round(0.75 * n) - 1]\n",
    "print(f'1st Quartile: {q1:2.4f}') #First 25%\n",
    "print(f'2nd Quartile: {q2:2.4f}') #First half, same as median\n",
    "print(f'3rd Quartile: {q3:2.4f}') #First 75%"
   ]
  },
  {
   "cell_type": "code",
   "execution_count": 10,
   "metadata": {},
   "outputs": [
    {
     "data": {
      "image/png": "[encoded data removed]",
      "text/plain": [
       "<Figure size 360x360 with 1 Axes>"
      ]
     },
     "metadata": {
      "needs_background": "light"
     },
     "output_type": "display_data"
    }
   ],
   "source": [
    "#Box-and-whiskers diagram\n",
    "plt.figure(figsize=(5, 5))\n",
    "plt.boxplot(data)\n",
    "plt.show()"
   ]
  },
  {
   "cell_type": "code",
   "execution_count": 11,
   "metadata": {},
   "outputs": [
    {
     "name": "stdout",
     "output_type": "stream",
     "text": [
      "Standard deviation: 2.3378\n"
     ]
    }
   ],
   "source": [
    "#Standard deviation\n",
    "sd = d ** (1/2)\n",
    "print(f'Standard deviation: {sd:2.4f}')"
   ]
  },
  {
   "cell_type": "code",
   "execution_count": 12,
   "metadata": {},
   "outputs": [
    {
     "name": "stdout",
     "output_type": "stream",
     "text": [
      "Excess: -0.8075\n"
     ]
    }
   ],
   "source": [
    "#Excess\n",
    "exc = (np.sum((data - m) ** 4) / (n * sd ** 4)) - 3\n",
    "print(f'Excess: {exc:2.4f}')"
   ]
  },
  {
   "cell_type": "code",
   "execution_count": 13,
   "metadata": {},
   "outputs": [
    {
     "name": "stdout",
     "output_type": "stream",
     "text": [
      "Asymmetry: 0.0547\n"
     ]
    }
   ],
   "source": [
    "#Asymmetry\n",
    "asy = np.sum((data - m) ** 3) / (n * sd ** 3)\n",
    "print(f'Asymmetry: {asy:2.4f}')"
   ]
  },
  {
   "cell_type": "code",
   "execution_count": 14,
   "metadata": {},
   "outputs": [
    {
     "name": "stdout",
     "output_type": "stream",
     "text": [
      "Min: 14.0000; Max: 23.0000\n"
     ]
    }
   ],
   "source": [
    "#Min, max\n",
    "minimum = data.min()\n",
    "maximum = data.max()\n",
    "print(f'Min: {minimum:2.4f}; Max: {maximum:2.4f}')"
   ]
  },
  {
   "cell_type": "code",
   "execution_count": 23,
   "metadata": {},
   "outputs": [
    {
     "name": "stdout",
     "output_type": "stream",
     "text": [
      "Гипотеза принимается\n"
     ]
    }
   ],
   "source": [
    "#Hypothesis of Pirs\n",
    "alpha = 0.025\n",
    "n_i = [11, 9, 14, 13, 14, 11, 12]\n",
    "n_i_ch = [11.17, 10.31, 14.09, 18.41, 20.56, 14.29, 11.17]\n",
    "X = 0\n",
    "X_dang = 11.1\n",
    "for i in range(len(n_i)):\n",
    "    X += ((n_i[i] - n_i_ch[i]) ** 2) / n_i_ch[i]\n",
    "if X < X_dang:\n",
    "    print(\"Гипотеза принимается\")\n",
    "else:\n",
    "    print (\"Гипотеза не принимается\")"
   ]
  },
  {
   "cell_type": "code",
   "execution_count": null,
   "metadata": {},
   "outputs": [],
   "source": []
  }
 ],
 "metadata": {
  "file_extension": ".py",
  "kernelspec": {
   "display_name": "Python 3",
   "language": "python",
   "name": "python3"
  },
  "language_info": {
   "codemirror_mode": {
    "name": "ipython",
    "version": 3
   },
   "file_extension": ".py",
   "mimetype": "text/x-python",
   "name": "python",
   "nbconvert_exporter": "python",
   "pygments_lexer": "ipython3",
   "version": "3.7.3"
  },
  "mimetype": "text/x-python",
  "name": "python",
  "npconvert_exporter": "python",
  "pygments_lexer": "ipython3",
  "version": 3
 },
 "nbformat": 4,
 "nbformat_minor": 2
}
