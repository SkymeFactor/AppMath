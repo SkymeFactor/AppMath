{
 "cells": [
  {
   "cell_type": "code",
   "execution_count": 1,
   "metadata": {},
   "outputs": [],
   "source": [
    "import numpy as np\n",
    "import matplotlib.pyplot as plt\n",
    "from math import erf\n",
    "import linalg\n",
    "%matplotlib inline"
   ]
  },
  {
   "cell_type": "code",
   "execution_count": 2,
   "metadata": {},
   "outputs": [],
   "source": [
    "# вероятности переходов между верщинами (состояниями)\n",
    "# матрица перехода за один шаг\n",
    "\n",
    "p = np.array([\n",
    "    [0, 0.7, 0, 0, 0.3, 0, 0, 0],\n",
    "    [0, 0.5, 0.2, 0.3, 0, 0, 0, 0],\n",
    "    [0, 0.4, 0, 0, 0.3, 0, 0, 0.3],\n",
    "    [0.4, 0, 0, 0.4, 0, 0.2, 0, 0],\n",
    "    [0, 0, 0.1, 0, 0.4, 0.5, 0, 0],\n",
    "    [0.4, 0, 0, 0, 0, 0, 0.6, 0],\n",
    "    [0, 0, 0, 0.2, 0.3, 0, 0, 0.5],\n",
    "    [0, 0, 0, 0, 0.2, 0.4, 0, 0.4]])\n",
    "\n",
    "\n",
    "nodes = 8 # number of nodes in our chain\n",
    "eps = 0.000001; # accuracy\n",
    "\n",
    "# first random vector of the first state\n",
    "vector1 = np.array([0, 0.1, 0.2, 0, 0.3, 0.1, 0, 0.3])\n",
    "\n",
    "# second random vector of the first state\n",
    "vector2 = np.array([0.1, 0.1, 0.1, 0, 0.2, 0.5, 0, 0])"
   ]
  },
  {
   "cell_type": "code",
   "execution_count": 3,
   "metadata": {},
   "outputs": [],
   "source": [
    "# multiplying elements of array to vector\n",
    "def multiplying(vector, array):\n",
    "    result = np.zeros(nodes)\n",
    "    for i in range(nodes):\n",
    "        for j in range(nodes):\n",
    "            result[i] += vector[j] * array[j][i]\n",
    "    return result"
   ]
  },
  {
   "cell_type": "code",
   "execution_count": 5,
   "metadata": {},
   "outputs": [],
   "source": [
    "def squareDiff(prev, curr):\n",
    "    sum = np.sum(np.square(prev - curr))\n",
    "    return sum"
   ]
  },
  {
   "cell_type": "code",
   "execution_count": 6,
   "metadata": {},
   "outputs": [],
   "source": [
    "def analysis(vector):\n",
    "    print(\"START\")\n",
    "    diff = 2 * eps\n",
    "    while(diff > eps):\n",
    "        next = multiplying(vector, p)\n",
    "        diff = squareDiff(vector, next)\n",
    "        print(diff)\n",
    "        vector = next\n",
    "    print(\"Solution is: \", vector)\n",
    "    print(\"FINISHED\")\n",
    "    return vector"
   ]
  },
  {
   "cell_type": "code",
   "execution_count": 7,
   "metadata": {},
   "outputs": [
    {
     "output_type": "stream",
     "name": "stdout",
     "text": "START\n0.07640000000000001\n0.031304000000000005\n0.008730080000000005\n0.0023455496000000004\n0.0010674805760000005\n0.0004086032741600003\n0.0001511421606799999\n4.564764247853597e-05\n2.2492387771882733e-05\n1.0476306388411062e-05\n3.22413868135176e-06\n1.692706660706163e-06\n8.4129780284978e-07\nSolution is:  [0.11107156 0.19983422 0.05615837 0.12924597 0.16292521 0.14855967\n 0.08930459 0.10290039]\nFINISHED\n"
    }
   ],
   "source": [
    "# solution for the first vector\n",
    "test1 = analysis(vector1)"
   ]
  },
  {
   "cell_type": "code",
   "execution_count": 8,
   "metadata": {},
   "outputs": [
    {
     "output_type": "stream",
     "name": "stdout",
     "text": "START\n0.2726\n0.121352\n0.025920079999999998\n0.011296939999999998\n0.0036649515439999983\n0.0007603105954399995\n0.0003580173112375998\n9.072978571963996e-05\n2.850646697646773e-05\n9.883754457204147e-06\n2.697042211490907e-06\n1.1897564526239779e-06\n2.7072898727564964e-07\nSolution is:  [0.11118125 0.20041576 0.05636692 0.12977616 0.16248234 0.14840327\n 0.08897063 0.10240368]\nFINISHED\n"
    }
   ],
   "source": [
    "# solution for the second vector\n",
    "test2 = analysis(vector2)"
   ]
  },
  {
   "cell_type": "code",
   "execution_count": 68,
   "metadata": {},
   "outputs": [
    {
     "output_type": "stream",
     "name": "stdout",
     "text": "[[0.11125451 0.20095981 0.05642473 0.13011542 0.16226753 0.14800917\n  0.08879234 0.10217649]\n [0.11126048 0.20099979 0.05643408 0.13014612 0.16224473 0.14798962\n  0.08877377 0.1021514 ]\n [0.11123837 0.20083419 0.05639708 0.13002126 0.16233479 0.14807294\n  0.08885104 0.10225034]\n [0.11125459 0.20096378 0.05642659 0.13011943 0.1622645  0.14800918\n  0.08878892 0.10217302]\n [0.11122499 0.20076032 0.05638286 0.12996765 0.1623749  0.14811572\n  0.08887954 0.10229402]\n [0.11123903 0.2008065  0.05639341 0.13000376 0.16234308 0.14809001\n  0.08886502 0.10225919]\n [0.11122617 0.20074002 0.0563762  0.12995049 0.16238549 0.1481205\n  0.08889512 0.10230602]\n [0.11121996 0.20071591 0.05637276 0.12993408 0.16239855 0.1481374\n  0.0889013  0.10232004]]\n"
    }
   ],
   "source": [
    "# solution\n",
    "power = np.linalg.matrix_power(p, 20) \n",
    "print(power)"
   ]
  },
  {
   "cell_type": "code",
   "execution_count": null,
   "metadata": {},
   "outputs": [],
   "source": []
  }
 ],
 "metadata": {
  "file_extension": ".py",
  "kernelspec": {
   "display_name": "Python 3",
   "language": "python",
   "name": "python3"
  },
  "language_info": {
   "codemirror_mode": {
    "name": "ipython",
    "version": 3
   },
   "file_extension": ".py",
   "mimetype": "text/x-python",
   "name": "python",
   "nbconvert_exporter": "python",
   "pygments_lexer": "ipython3",
   "version": "3.7.4-final"
  },
  "mimetype": "text/x-python",
  "name": "python",
  "npconvert_exporter": "python",
  "pygments_lexer": "ipython3",
  "version": 3
 },
 "nbformat": 4,
 "nbformat_minor": 2
}