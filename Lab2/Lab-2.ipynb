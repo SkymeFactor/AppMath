{
 "cells": [
  {
   "cell_type": "code",
   "execution_count": 7,
   "metadata": {},
   "outputs": [],
   "source": [
    "import numpy as np\n",
    "import matplotlib.pyplot as plt\n",
    "from math import log\n",
    "from scipy.special import erf\n",
    "\n",
    "%matplotlib inline"
   ]
  },
  {
   "cell_type": "code",
   "execution_count": 2,
   "metadata": {},
   "outputs": [],
   "source": [
    "n = np.arange(10, 100 + 10, 10)\n",
    "p = np.arange(0.5, 1 + 0.01, 0.01)\n",
    "\n",
    "def empirical_dist(_data):\n",
    "    unique_data = np.unique(_data)\n",
    "    _dist = np.zeros_like(unique_data)\n",
    "    for i in range(unique_data.shape[0]):\n",
    "        _dist[i] = np.sum(_data < unique_data[i]) / _data.shape[0]\n",
    "    return _dist\n",
    "\n",
    ""
   ]
  },
  {
   "cell_type": "code",
   "execution_count": 422,
   "metadata": {},
   "outputs": [
    {
     "output_type": "stream",
     "name": "stdout",
     "text": "{'Chi_square': 15.408567412395325, 'Chi_critical': 22.362032494826945}\n2.625473691973074\n"
    }
   ],
   "source": [
    "from scipy.stats import chi2\n",
    "def laplace_func(x):\n",
    "   return  erf(x / 2 ** 0.5) / 2\n",
    "\n",
    "def pearsons_test(distribution, significance_level):\n",
    "    n = distribution.shape[0]\n",
    "    m = np.mean(distribution)\n",
    "    sd = np.sqrt(np.sum((distribution - m) ** 2) / (n - 1))\n",
    "    dist_interval = np.max(distribution) - np.min(distribution)\n",
    "    del_x = dist_interval / (1 + 3.3 * (log(n)))\n",
    "    borders = np.arange(np.min(distribution), np.max(distribution) + del_x, del_x)\n",
    "    n_i = np.array([np.count_nonzero((distribution >= borders[i]) & (distribution < borders[i+1] )) \\\n",
    "        for i in range(borders.shape[0] - 1)])\n",
    "    z = np.array([((i - m) / sd) for i in borders])\n",
    "    p_i = np.array([ (laplace_func(z[i + 1]) - laplace_func(z[i])) for i in range(z.shape[0] - 1) ])\n",
    "    chi_sqare = np.sum( ((n_i - n * p_i) ** 2) / (n * p_i) )\n",
    "    k = n_i.shape[0] - 2 - 1 # For normal distribution we have only 2 degrees of freedom\n",
    "    chi_critical = chi2.isf(significance_level, k)\n",
    "    return {\"Chi_square\" : chi_sqare, \"Chi_critical\" : chi_critical}\n",
    "\n",
    "def jarque_bera_test (distribution):\n",
    "    n = distribution.shape[0]\n",
    "    m = np.mean(distribution)\n",
    "    sd = np.sqrt(np.sum((distribution - m) ** 2) / (n - 1))\n",
    "    skewness = np.sum((distribution - m) ** 3) / (n * sd ** 3)\n",
    "    kurtosis = (np.sum((distribution - m) ** 4) / (n * sd ** 4)) - 3\n",
    "    return n/6 *(skewness**2 + kurtosis**2 / 4)\n",
    "\n",
    "data = np.loadtxt('./data.txt', delimiter=' ')\n",
    "print(pearsons_test(data, 0.05))\n",
    "print(jarque_bera_test(data))"
   ]
  },
  {
   "cell_type": "code",
   "execution_count": 2,
   "metadata": {},
   "outputs": [
    {
     "output_type": "stream",
     "name": "stdout",
     "text": "gamma_incomplete 5.811507911521526e-12 2.0186888178613977e-14\ngamma 287.88527781504445 287.88527781504433\n2.0186888178613992e-14\n22.362032494826934\n"
    }
   ],
   "source": [
    "from numpy import e, inf\n",
    "from scipy.special import gamma, gammainc, gammaincinv\n",
    "from scipy.integrate import quad\n",
    "from decimal import Decimal\n",
    "from scipy.misc import derivative\n",
    "\n",
    "def lower_incomplete_gamma_function(s: float = .0, x: float = .0):\n",
    "    return (quad(lambda t: (t ** (s - 1)) * (e ** (-t)), 0, x)[0])\n",
    "\n",
    "\n",
    "def gamma_function(z: float = .0):\n",
    "    return (quad(lambda t: (t ** (z - 1)) * (e ** (-t)), 0, inf)[0])\n",
    "\n",
    "def F(x, k):\n",
    "    li = (lower_incomplete_gamma_function(k / 2, x / 2))\n",
    "    g = (gamma_function(k / 2))\n",
    "    print(\"gamma_incomplete\", li, gammainc(k / 2, x / 2))\n",
    "    print(\"gamma\", g, gamma(k / 2))\n",
    "    #print(1 - li / g)\n",
    "    res = li / g\n",
    "    #res = gammainc(k / 2, x / 2) / gamma(k / 2)\n",
    "    #res = np.float128(5.8115079115215259e-12) / np.float128(287.88527781504445)\n",
    "    return  res, li, g\n",
    "\n",
    "def Finv(x, k):\n",
    "    f = F(x, k)\n",
    "    print(f[0])\n",
    "    res = 2 * gammaincinv(k / 2, 1 - x) #(1 - gammaincinv(f, x / 2)) * gamma(k / 2)\n",
    "    #res = \n",
    "\n",
    "    return res\n",
    "\n",
    "print(Finv(0.05, 13))"
   ]
  },
  {
   "cell_type": "code",
   "execution_count": null,
   "metadata": {},
   "outputs": [],
   "source": []
  }
 ],
 "metadata": {
  "language_info": {
   "name": "python",
   "codemirror_mode": {
    "name": "ipython",
    "version": 3
   },
   "version": "3.8.2-final"
  },
  "orig_nbformat": 2,
  "file_extension": ".py",
  "mimetype": "text/x-python",
  "name": "python",
  "npconvert_exporter": "python",
  "pygments_lexer": "ipython3",
  "version": 3,
  "kernelspec": {
   "name": "python37464bit4a2d933637884b4185f2045404952a31",
   "display_name": "Python 3.7.4 64-bit"
  }
 },
 "nbformat": 4,
 "nbformat_minor": 2
}